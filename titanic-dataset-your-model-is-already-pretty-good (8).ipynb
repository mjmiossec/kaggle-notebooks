{
 "cells": [
  {
   "cell_type": "markdown",
   "id": "e55942cc",
   "metadata": {
    "papermill": {
     "duration": 0.014556,
     "end_time": "2021-10-15T23:34:40.075416",
     "exception": false,
     "start_time": "2021-10-15T23:34:40.060860",
     "status": "completed"
    },
    "tags": []
   },
   "source": [
    "# Titanic Dataset: Your model is already pretty good \n",
    "## ...and it's certainly better than the top 150 \"models\".\n",
    "\n",
    "\n",
    "So you've just joined Kaggle and, whether through the Kaggle ML courses, an ML book or because its reputation precedes it, you've tried your hand at the famous Titanic dataset. Perhaps you've tried a few things and you've managed to increase your model's categorization accuracy score ever so slightly.\n",
    "\n",
    "My first score was 0.75598 and after 12 new attempts, I managed to get 0.77990 (there was a 13th new attempt, didn't go too well...).\n",
    "\n",
    "#### Not particularly impressive right? \n",
    "\n",
    "At the time of writing, there are about 155 Kaggle teams appearing in the public leaderboard with a perfect score of 1.00000 (notice the five 0s, these models must be at least 0.999995 accurate if there's any rounding going on). \n",
    "\n",
    "How did they do it? There are a lot of novices at the top, novices just like you and me. Do they just have a knack, a gift for ML? Why are you wasting your time with this notebook when you could have a look at some of theirs? (OK, I'll answer that one right off the bat: These notebooks are mostly identical and none of them show you how to get a score of 1.00000 from the data on Kaggle)\n",
    "\n",
    "#### What if I told you your latest model, nay, your very first attempt at a model is/was already pretty good and better than the top 150 or so \"models\". How could this be? How could I possibly know this?\n",
    "\n",
    "Let's look at a maritime disaster from a parallel dimension..."
   ]
  },
  {
   "cell_type": "markdown",
   "id": "4d6beffb",
   "metadata": {
    "papermill": {
     "duration": 0.013349,
     "end_time": "2021-10-15T23:34:40.102100",
     "exception": false,
     "start_time": "2021-10-15T23:34:40.088751",
     "status": "completed"
    },
    "tags": []
   },
   "source": [
    "## <center>-- The Tatinac disaster --</center>\n",
    "\n",
    "Up until the early morning hours of 15 April 1912, the RMS Titanic and RMS Tatinac differed in name only. The passengers on both ships were identical to each other in every way, shape or form...that is, until evacuation begun, then something utterly bizzare happened in the Tatinac universe...people formed orderly queues. As on the RMS Titanic, cries rang out \"Women and children first\" and on that basis, people queued. Unfortunetaly, when the last woman and child under the age of 15 got onto the lifeboats, there suddenly weren't any boat...and so all men sank with the ship, having humbly accepted their fate. \n",
    "\n",
    "    ¯\\_(ツ)_/¯\n",
    "\n",
    "#### Let us now take the Titanic dataset and transform it into the Tatinac dataset, including a survivor column in the test set."
   ]
  },
  {
   "cell_type": "code",
   "execution_count": 1,
   "id": "9d2a1223",
   "metadata": {
    "_cell_guid": "b1076dfc-b9ad-4769-8c92-a6c4dae69d19",
    "_uuid": "8f2839f25d086af736a60e9eeb907d3b93b6e0e5",
    "execution": {
     "iopub.execute_input": "2021-10-15T23:34:40.130937Z",
     "iopub.status.busy": "2021-10-15T23:34:40.129836Z",
     "iopub.status.idle": "2021-10-15T23:34:40.181852Z",
     "shell.execute_reply": "2021-10-15T23:34:40.182359Z"
    },
    "papermill": {
     "duration": 0.068218,
     "end_time": "2021-10-15T23:34:40.182722",
     "exception": false,
     "start_time": "2021-10-15T23:34:40.114504",
     "status": "completed"
    },
    "tags": []
   },
   "outputs": [],
   "source": [
    "import numpy as np # linear algebra\n",
    "import pandas as pd # data processing, CSV file I/O (e.g. pd.read_csv)\n",
    "\n",
    "tatinac_train = pd.read_csv(\"../input/titanic/train.csv\")\n",
    "tatinac_test = pd.read_csv(\"../input/titanic/test.csv\")\n",
    "\n",
    "#let's start from a blank slate, with no survival...how bleak...\n",
    "tatinac_train[\"Survived\"] = 0 #this changes the values in the pre-existing column \"Survived\" to 0.\n",
    "tatinac_test[\"Survived\"] = 0 #this adds a new column \"Survived\" to the test set.\n",
    "\n",
    "#To reiterate, in the Tatinac universe, all women and children (under 15) survive.\n",
    "tatinac_train.loc[(tatinac_train[\"Sex\"]==\"female\") | (tatinac_train[\"Age\"]<15),\"Survived\"] = 1 \n",
    "tatinac_test.loc[(tatinac_test[\"Sex\"]==\"female\") | (tatinac_test[\"Age\"]<15), \"Survived\"] = 1\n",
    "#There are few men for which age is not given, we will assume for now they were all 15 or older."
   ]
  },
  {
   "cell_type": "markdown",
   "id": "36c8c753",
   "metadata": {
    "papermill": {
     "duration": 0.012156,
     "end_time": "2021-10-15T23:34:40.207502",
     "exception": false,
     "start_time": "2021-10-15T23:34:40.195346",
     "status": "completed"
    },
    "tags": []
   },
   "source": [
    "This is what the data for the Tatinac disaster looks like. Eyeballing it, the pattern quickly becomes fairly obvious."
   ]
  },
  {
   "cell_type": "code",
   "execution_count": 2,
   "id": "24b4cd85",
   "metadata": {
    "execution": {
     "iopub.execute_input": "2021-10-15T23:34:40.235787Z",
     "iopub.status.busy": "2021-10-15T23:34:40.235132Z",
     "iopub.status.idle": "2021-10-15T23:34:40.258457Z",
     "shell.execute_reply": "2021-10-15T23:34:40.258919Z"
    },
    "papermill": {
     "duration": 0.039083,
     "end_time": "2021-10-15T23:34:40.259087",
     "exception": false,
     "start_time": "2021-10-15T23:34:40.220004",
     "status": "completed"
    },
    "tags": []
   },
   "outputs": [
    {
     "data": {
      "text/html": [
       "<div>\n",
       "<style scoped>\n",
       "    .dataframe tbody tr th:only-of-type {\n",
       "        vertical-align: middle;\n",
       "    }\n",
       "\n",
       "    .dataframe tbody tr th {\n",
       "        vertical-align: top;\n",
       "    }\n",
       "\n",
       "    .dataframe thead th {\n",
       "        text-align: right;\n",
       "    }\n",
       "</style>\n",
       "<table border=\"1\" class=\"dataframe\">\n",
       "  <thead>\n",
       "    <tr style=\"text-align: right;\">\n",
       "      <th></th>\n",
       "      <th>PassengerId</th>\n",
       "      <th>Survived</th>\n",
       "      <th>Pclass</th>\n",
       "      <th>Name</th>\n",
       "      <th>Sex</th>\n",
       "      <th>Age</th>\n",
       "      <th>SibSp</th>\n",
       "      <th>Parch</th>\n",
       "      <th>Ticket</th>\n",
       "      <th>Fare</th>\n",
       "      <th>Cabin</th>\n",
       "      <th>Embarked</th>\n",
       "    </tr>\n",
       "  </thead>\n",
       "  <tbody>\n",
       "    <tr>\n",
       "      <th>0</th>\n",
       "      <td>1</td>\n",
       "      <td>0</td>\n",
       "      <td>3</td>\n",
       "      <td>Braund, Mr. Owen Harris</td>\n",
       "      <td>male</td>\n",
       "      <td>22.0</td>\n",
       "      <td>1</td>\n",
       "      <td>0</td>\n",
       "      <td>A/5 21171</td>\n",
       "      <td>7.2500</td>\n",
       "      <td>NaN</td>\n",
       "      <td>S</td>\n",
       "    </tr>\n",
       "    <tr>\n",
       "      <th>1</th>\n",
       "      <td>2</td>\n",
       "      <td>1</td>\n",
       "      <td>1</td>\n",
       "      <td>Cumings, Mrs. John Bradley (Florence Briggs Th...</td>\n",
       "      <td>female</td>\n",
       "      <td>38.0</td>\n",
       "      <td>1</td>\n",
       "      <td>0</td>\n",
       "      <td>PC 17599</td>\n",
       "      <td>71.2833</td>\n",
       "      <td>C85</td>\n",
       "      <td>C</td>\n",
       "    </tr>\n",
       "    <tr>\n",
       "      <th>2</th>\n",
       "      <td>3</td>\n",
       "      <td>1</td>\n",
       "      <td>3</td>\n",
       "      <td>Heikkinen, Miss. Laina</td>\n",
       "      <td>female</td>\n",
       "      <td>26.0</td>\n",
       "      <td>0</td>\n",
       "      <td>0</td>\n",
       "      <td>STON/O2. 3101282</td>\n",
       "      <td>7.9250</td>\n",
       "      <td>NaN</td>\n",
       "      <td>S</td>\n",
       "    </tr>\n",
       "    <tr>\n",
       "      <th>3</th>\n",
       "      <td>4</td>\n",
       "      <td>1</td>\n",
       "      <td>1</td>\n",
       "      <td>Futrelle, Mrs. Jacques Heath (Lily May Peel)</td>\n",
       "      <td>female</td>\n",
       "      <td>35.0</td>\n",
       "      <td>1</td>\n",
       "      <td>0</td>\n",
       "      <td>113803</td>\n",
       "      <td>53.1000</td>\n",
       "      <td>C123</td>\n",
       "      <td>S</td>\n",
       "    </tr>\n",
       "    <tr>\n",
       "      <th>4</th>\n",
       "      <td>5</td>\n",
       "      <td>0</td>\n",
       "      <td>3</td>\n",
       "      <td>Allen, Mr. William Henry</td>\n",
       "      <td>male</td>\n",
       "      <td>35.0</td>\n",
       "      <td>0</td>\n",
       "      <td>0</td>\n",
       "      <td>373450</td>\n",
       "      <td>8.0500</td>\n",
       "      <td>NaN</td>\n",
       "      <td>S</td>\n",
       "    </tr>\n",
       "    <tr>\n",
       "      <th>5</th>\n",
       "      <td>6</td>\n",
       "      <td>0</td>\n",
       "      <td>3</td>\n",
       "      <td>Moran, Mr. James</td>\n",
       "      <td>male</td>\n",
       "      <td>NaN</td>\n",
       "      <td>0</td>\n",
       "      <td>0</td>\n",
       "      <td>330877</td>\n",
       "      <td>8.4583</td>\n",
       "      <td>NaN</td>\n",
       "      <td>Q</td>\n",
       "    </tr>\n",
       "    <tr>\n",
       "      <th>6</th>\n",
       "      <td>7</td>\n",
       "      <td>0</td>\n",
       "      <td>1</td>\n",
       "      <td>McCarthy, Mr. Timothy J</td>\n",
       "      <td>male</td>\n",
       "      <td>54.0</td>\n",
       "      <td>0</td>\n",
       "      <td>0</td>\n",
       "      <td>17463</td>\n",
       "      <td>51.8625</td>\n",
       "      <td>E46</td>\n",
       "      <td>S</td>\n",
       "    </tr>\n",
       "    <tr>\n",
       "      <th>7</th>\n",
       "      <td>8</td>\n",
       "      <td>1</td>\n",
       "      <td>3</td>\n",
       "      <td>Palsson, Master. Gosta Leonard</td>\n",
       "      <td>male</td>\n",
       "      <td>2.0</td>\n",
       "      <td>3</td>\n",
       "      <td>1</td>\n",
       "      <td>349909</td>\n",
       "      <td>21.0750</td>\n",
       "      <td>NaN</td>\n",
       "      <td>S</td>\n",
       "    </tr>\n",
       "    <tr>\n",
       "      <th>8</th>\n",
       "      <td>9</td>\n",
       "      <td>1</td>\n",
       "      <td>3</td>\n",
       "      <td>Johnson, Mrs. Oscar W (Elisabeth Vilhelmina Berg)</td>\n",
       "      <td>female</td>\n",
       "      <td>27.0</td>\n",
       "      <td>0</td>\n",
       "      <td>2</td>\n",
       "      <td>347742</td>\n",
       "      <td>11.1333</td>\n",
       "      <td>NaN</td>\n",
       "      <td>S</td>\n",
       "    </tr>\n",
       "    <tr>\n",
       "      <th>9</th>\n",
       "      <td>10</td>\n",
       "      <td>1</td>\n",
       "      <td>2</td>\n",
       "      <td>Nasser, Mrs. Nicholas (Adele Achem)</td>\n",
       "      <td>female</td>\n",
       "      <td>14.0</td>\n",
       "      <td>1</td>\n",
       "      <td>0</td>\n",
       "      <td>237736</td>\n",
       "      <td>30.0708</td>\n",
       "      <td>NaN</td>\n",
       "      <td>C</td>\n",
       "    </tr>\n",
       "    <tr>\n",
       "      <th>10</th>\n",
       "      <td>11</td>\n",
       "      <td>1</td>\n",
       "      <td>3</td>\n",
       "      <td>Sandstrom, Miss. Marguerite Rut</td>\n",
       "      <td>female</td>\n",
       "      <td>4.0</td>\n",
       "      <td>1</td>\n",
       "      <td>1</td>\n",
       "      <td>PP 9549</td>\n",
       "      <td>16.7000</td>\n",
       "      <td>G6</td>\n",
       "      <td>S</td>\n",
       "    </tr>\n",
       "    <tr>\n",
       "      <th>11</th>\n",
       "      <td>12</td>\n",
       "      <td>1</td>\n",
       "      <td>1</td>\n",
       "      <td>Bonnell, Miss. Elizabeth</td>\n",
       "      <td>female</td>\n",
       "      <td>58.0</td>\n",
       "      <td>0</td>\n",
       "      <td>0</td>\n",
       "      <td>113783</td>\n",
       "      <td>26.5500</td>\n",
       "      <td>C103</td>\n",
       "      <td>S</td>\n",
       "    </tr>\n",
       "    <tr>\n",
       "      <th>12</th>\n",
       "      <td>13</td>\n",
       "      <td>0</td>\n",
       "      <td>3</td>\n",
       "      <td>Saundercock, Mr. William Henry</td>\n",
       "      <td>male</td>\n",
       "      <td>20.0</td>\n",
       "      <td>0</td>\n",
       "      <td>0</td>\n",
       "      <td>A/5. 2151</td>\n",
       "      <td>8.0500</td>\n",
       "      <td>NaN</td>\n",
       "      <td>S</td>\n",
       "    </tr>\n",
       "    <tr>\n",
       "      <th>13</th>\n",
       "      <td>14</td>\n",
       "      <td>0</td>\n",
       "      <td>3</td>\n",
       "      <td>Andersson, Mr. Anders Johan</td>\n",
       "      <td>male</td>\n",
       "      <td>39.0</td>\n",
       "      <td>1</td>\n",
       "      <td>5</td>\n",
       "      <td>347082</td>\n",
       "      <td>31.2750</td>\n",
       "      <td>NaN</td>\n",
       "      <td>S</td>\n",
       "    </tr>\n",
       "    <tr>\n",
       "      <th>14</th>\n",
       "      <td>15</td>\n",
       "      <td>1</td>\n",
       "      <td>3</td>\n",
       "      <td>Vestrom, Miss. Hulda Amanda Adolfina</td>\n",
       "      <td>female</td>\n",
       "      <td>14.0</td>\n",
       "      <td>0</td>\n",
       "      <td>0</td>\n",
       "      <td>350406</td>\n",
       "      <td>7.8542</td>\n",
       "      <td>NaN</td>\n",
       "      <td>S</td>\n",
       "    </tr>\n",
       "    <tr>\n",
       "      <th>15</th>\n",
       "      <td>16</td>\n",
       "      <td>1</td>\n",
       "      <td>2</td>\n",
       "      <td>Hewlett, Mrs. (Mary D Kingcome)</td>\n",
       "      <td>female</td>\n",
       "      <td>55.0</td>\n",
       "      <td>0</td>\n",
       "      <td>0</td>\n",
       "      <td>248706</td>\n",
       "      <td>16.0000</td>\n",
       "      <td>NaN</td>\n",
       "      <td>S</td>\n",
       "    </tr>\n",
       "    <tr>\n",
       "      <th>16</th>\n",
       "      <td>17</td>\n",
       "      <td>1</td>\n",
       "      <td>3</td>\n",
       "      <td>Rice, Master. Eugene</td>\n",
       "      <td>male</td>\n",
       "      <td>2.0</td>\n",
       "      <td>4</td>\n",
       "      <td>1</td>\n",
       "      <td>382652</td>\n",
       "      <td>29.1250</td>\n",
       "      <td>NaN</td>\n",
       "      <td>Q</td>\n",
       "    </tr>\n",
       "    <tr>\n",
       "      <th>17</th>\n",
       "      <td>18</td>\n",
       "      <td>0</td>\n",
       "      <td>2</td>\n",
       "      <td>Williams, Mr. Charles Eugene</td>\n",
       "      <td>male</td>\n",
       "      <td>NaN</td>\n",
       "      <td>0</td>\n",
       "      <td>0</td>\n",
       "      <td>244373</td>\n",
       "      <td>13.0000</td>\n",
       "      <td>NaN</td>\n",
       "      <td>S</td>\n",
       "    </tr>\n",
       "    <tr>\n",
       "      <th>18</th>\n",
       "      <td>19</td>\n",
       "      <td>1</td>\n",
       "      <td>3</td>\n",
       "      <td>Vander Planke, Mrs. Julius (Emelia Maria Vande...</td>\n",
       "      <td>female</td>\n",
       "      <td>31.0</td>\n",
       "      <td>1</td>\n",
       "      <td>0</td>\n",
       "      <td>345763</td>\n",
       "      <td>18.0000</td>\n",
       "      <td>NaN</td>\n",
       "      <td>S</td>\n",
       "    </tr>\n",
       "    <tr>\n",
       "      <th>19</th>\n",
       "      <td>20</td>\n",
       "      <td>1</td>\n",
       "      <td>3</td>\n",
       "      <td>Masselmani, Mrs. Fatima</td>\n",
       "      <td>female</td>\n",
       "      <td>NaN</td>\n",
       "      <td>0</td>\n",
       "      <td>0</td>\n",
       "      <td>2649</td>\n",
       "      <td>7.2250</td>\n",
       "      <td>NaN</td>\n",
       "      <td>C</td>\n",
       "    </tr>\n",
       "  </tbody>\n",
       "</table>\n",
       "</div>"
      ],
      "text/plain": [
       "    PassengerId  Survived  Pclass  \\\n",
       "0             1         0       3   \n",
       "1             2         1       1   \n",
       "2             3         1       3   \n",
       "3             4         1       1   \n",
       "4             5         0       3   \n",
       "5             6         0       3   \n",
       "6             7         0       1   \n",
       "7             8         1       3   \n",
       "8             9         1       3   \n",
       "9            10         1       2   \n",
       "10           11         1       3   \n",
       "11           12         1       1   \n",
       "12           13         0       3   \n",
       "13           14         0       3   \n",
       "14           15         1       3   \n",
       "15           16         1       2   \n",
       "16           17         1       3   \n",
       "17           18         0       2   \n",
       "18           19         1       3   \n",
       "19           20         1       3   \n",
       "\n",
       "                                                 Name     Sex   Age  SibSp  \\\n",
       "0                             Braund, Mr. Owen Harris    male  22.0      1   \n",
       "1   Cumings, Mrs. John Bradley (Florence Briggs Th...  female  38.0      1   \n",
       "2                              Heikkinen, Miss. Laina  female  26.0      0   \n",
       "3        Futrelle, Mrs. Jacques Heath (Lily May Peel)  female  35.0      1   \n",
       "4                            Allen, Mr. William Henry    male  35.0      0   \n",
       "5                                    Moran, Mr. James    male   NaN      0   \n",
       "6                             McCarthy, Mr. Timothy J    male  54.0      0   \n",
       "7                      Palsson, Master. Gosta Leonard    male   2.0      3   \n",
       "8   Johnson, Mrs. Oscar W (Elisabeth Vilhelmina Berg)  female  27.0      0   \n",
       "9                 Nasser, Mrs. Nicholas (Adele Achem)  female  14.0      1   \n",
       "10                    Sandstrom, Miss. Marguerite Rut  female   4.0      1   \n",
       "11                           Bonnell, Miss. Elizabeth  female  58.0      0   \n",
       "12                     Saundercock, Mr. William Henry    male  20.0      0   \n",
       "13                        Andersson, Mr. Anders Johan    male  39.0      1   \n",
       "14               Vestrom, Miss. Hulda Amanda Adolfina  female  14.0      0   \n",
       "15                   Hewlett, Mrs. (Mary D Kingcome)   female  55.0      0   \n",
       "16                               Rice, Master. Eugene    male   2.0      4   \n",
       "17                       Williams, Mr. Charles Eugene    male   NaN      0   \n",
       "18  Vander Planke, Mrs. Julius (Emelia Maria Vande...  female  31.0      1   \n",
       "19                            Masselmani, Mrs. Fatima  female   NaN      0   \n",
       "\n",
       "    Parch            Ticket     Fare Cabin Embarked  \n",
       "0       0         A/5 21171   7.2500   NaN        S  \n",
       "1       0          PC 17599  71.2833   C85        C  \n",
       "2       0  STON/O2. 3101282   7.9250   NaN        S  \n",
       "3       0            113803  53.1000  C123        S  \n",
       "4       0            373450   8.0500   NaN        S  \n",
       "5       0            330877   8.4583   NaN        Q  \n",
       "6       0             17463  51.8625   E46        S  \n",
       "7       1            349909  21.0750   NaN        S  \n",
       "8       2            347742  11.1333   NaN        S  \n",
       "9       0            237736  30.0708   NaN        C  \n",
       "10      1           PP 9549  16.7000    G6        S  \n",
       "11      0            113783  26.5500  C103        S  \n",
       "12      0         A/5. 2151   8.0500   NaN        S  \n",
       "13      5            347082  31.2750   NaN        S  \n",
       "14      0            350406   7.8542   NaN        S  \n",
       "15      0            248706  16.0000   NaN        S  \n",
       "16      1            382652  29.1250   NaN        Q  \n",
       "17      0            244373  13.0000   NaN        S  \n",
       "18      0            345763  18.0000   NaN        S  \n",
       "19      0              2649   7.2250   NaN        C  "
      ]
     },
     "execution_count": 2,
     "metadata": {},
     "output_type": "execute_result"
    }
   ],
   "source": [
    "#This is what the data for the Tatinac disaster looks like.\n",
    "tatinac_train.head(20)"
   ]
  },
  {
   "cell_type": "markdown",
   "id": "3833b50e",
   "metadata": {
    "papermill": {
     "duration": 0.014971,
     "end_time": "2021-10-15T23:34:40.289057",
     "exception": false,
     "start_time": "2021-10-15T23:34:40.274086",
     "status": "completed"
    },
    "tags": []
   },
   "source": [
    "It will not come as a suprise to anyone that any model, even a simple one, that picks up on the all female and all under 15 pattern in the data will do exceptionally well. Armed with the gift of foresight, let's just use a simple decision tree.\n",
    "\n",
    "(As with the Titanic dataset, we do need to do a little preprocessing on the data. Don't worry if this next cell is unclear, just skip to the next cell. I have borrowed this section from Aurelien Geron's excellent 'Hands-On Machine Learning with Scikit-Learn, Keras and Tensorflow'. This is not vital to understand the point of this notebook)"
   ]
  },
  {
   "cell_type": "code",
   "execution_count": 3,
   "id": "648d1699",
   "metadata": {
    "execution": {
     "iopub.execute_input": "2021-10-15T23:34:40.331388Z",
     "iopub.status.busy": "2021-10-15T23:34:40.330533Z",
     "iopub.status.idle": "2021-10-15T23:34:41.480467Z",
     "shell.execute_reply": "2021-10-15T23:34:41.479969Z"
    },
    "papermill": {
     "duration": 1.173852,
     "end_time": "2021-10-15T23:34:41.480662",
     "exception": false,
     "start_time": "2021-10-15T23:34:40.306810",
     "status": "completed"
    },
    "tags": []
   },
   "outputs": [],
   "source": [
    "#preprocessing start...\n",
    "from sklearn.base import BaseEstimator, TransformerMixin\n",
    "from sklearn.impute import SimpleImputer\n",
    "from sklearn.preprocessing import OneHotEncoder\n",
    "from sklearn.pipeline import Pipeline, FeatureUnion\n",
    "\n",
    "class DataFrameSelector(BaseEstimator, TransformerMixin):\n",
    "    def __init__(self, attribute_names):\n",
    "        self.attribute_names = attribute_names\n",
    "    def fit(self, X, y=None):\n",
    "        return self\n",
    "    def transform(self, X):\n",
    "        return X[self.attribute_names]\n",
    "\n",
    "num_pipeline = Pipeline([\n",
    "    ('select', DataFrameSelector([\"Age\",\"Fare\"])),\n",
    "    ('imputer',SimpleImputer(strategy=\"median\")),\n",
    "])\n",
    "\n",
    "cat_pipeline = Pipeline([\n",
    "    ('select', DataFrameSelector([\"Pclass\",\"Sex\",\"SibSp\"])),\n",
    "    ('imputer',SimpleImputer(strategy=\"most_frequent\")),\n",
    "    ('onehot', OneHotEncoder(sparse='False')),\n",
    "])\n",
    "\n",
    "preprocess_pipeline = FeatureUnion(transformer_list=[\n",
    "        (\"num_pipeline\", num_pipeline),\n",
    "        (\"cat_pipeline\", cat_pipeline),\n",
    "    ])\n",
    "##...preprocessing end...phew, now back to the good stuff."
   ]
  },
  {
   "cell_type": "markdown",
   "id": "49fe4c2d",
   "metadata": {
    "papermill": {
     "duration": 0.012783,
     "end_time": "2021-10-15T23:34:41.506879",
     "exception": false,
     "start_time": "2021-10-15T23:34:41.494096",
     "status": "completed"
    },
    "tags": []
   },
   "source": [
    "Now we fit our preprocessed Tatinac dataset to a simple decision tree classifier."
   ]
  },
  {
   "cell_type": "code",
   "execution_count": 4,
   "id": "a20a9ec3",
   "metadata": {
    "execution": {
     "iopub.execute_input": "2021-10-15T23:34:41.537834Z",
     "iopub.status.busy": "2021-10-15T23:34:41.537161Z",
     "iopub.status.idle": "2021-10-15T23:34:41.608809Z",
     "shell.execute_reply": "2021-10-15T23:34:41.608308Z"
    },
    "papermill": {
     "duration": 0.087841,
     "end_time": "2021-10-15T23:34:41.608953",
     "exception": false,
     "start_time": "2021-10-15T23:34:41.521112",
     "status": "completed"
    },
    "tags": []
   },
   "outputs": [
    {
     "data": {
      "text/plain": [
       "DecisionTreeClassifier()"
      ]
     },
     "execution_count": 4,
     "metadata": {},
     "output_type": "execute_result"
    }
   ],
   "source": [
    "from sklearn.tree import DecisionTreeClassifier, export_graphviz \n",
    "import graphviz ##we will want to visualize the tree we've created.\n",
    "\n",
    "tt = tatinac_train.copy(deep=True)\n",
    "\n",
    "X_train = preprocess_pipeline.fit_transform(tt)\n",
    "y_train = tatinac_train[\"Survived\"]\n",
    "\n",
    "dtc = DecisionTreeClassifier()\n",
    "dtc.fit(X_train, y_train)"
   ]
  },
  {
   "cell_type": "markdown",
   "id": "aeb023f3",
   "metadata": {
    "papermill": {
     "duration": 0.013191,
     "end_time": "2021-10-15T23:34:41.636231",
     "exception": false,
     "start_time": "2021-10-15T23:34:41.623040",
     "status": "completed"
    },
    "tags": []
   },
   "source": [
    "Let's see how well our model did."
   ]
  },
  {
   "cell_type": "code",
   "execution_count": 5,
   "id": "8ef124d9",
   "metadata": {
    "execution": {
     "iopub.execute_input": "2021-10-15T23:34:41.669996Z",
     "iopub.status.busy": "2021-10-15T23:34:41.666552Z",
     "iopub.status.idle": "2021-10-15T23:34:42.627571Z",
     "shell.execute_reply": "2021-10-15T23:34:42.627110Z"
    },
    "papermill": {
     "duration": 0.977479,
     "end_time": "2021-10-15T23:34:42.627731",
     "exception": false,
     "start_time": "2021-10-15T23:34:41.650252",
     "status": "completed"
    },
    "tags": []
   },
   "outputs": [
    {
     "name": "stdout",
     "output_type": "stream",
     "text": [
      "categorization accuracy score: 1.0\n"
     ]
    },
    {
     "data": {
      "text/plain": [
       "'imageA.pdf'"
      ]
     },
     "execution_count": 5,
     "metadata": {},
     "output_type": "execute_result"
    }
   ],
   "source": [
    "from sklearn.metrics import accuracy_score\n",
    "\n",
    "X_test = preprocess_pipeline.fit_transform(tatinac_test.drop(\"Survived\", axis=1))\n",
    "y_test = tatinac_test[\"Survived\"]\n",
    "y_pred = dtc.predict(X_test)\n",
    "\n",
    "print(\"categorization accuracy score:\",accuracy_score(y_pred,y_test))\n",
    "\n",
    "##have a look at your decision tree in your output folder...makes a lot sense doesn't it?\n",
    "visual = graphviz.Source(export_graphviz(dtc,class_names=True))\n",
    "visual.render(\"imageA\")"
   ]
  },
  {
   "cell_type": "markdown",
   "id": "25c92c88",
   "metadata": {
    "papermill": {
     "duration": 0.013857,
     "end_time": "2021-10-15T23:34:42.655872",
     "exception": false,
     "start_time": "2021-10-15T23:34:42.642015",
     "status": "completed"
    },
    "tags": []
   },
   "source": [
    "#### So it IS possible to get an accuracy of 1.00000 after all!?\n",
    "\n",
    "Wait a minute, even in the Tatinac universe reality is a little more complex. Remember we have men who's age is not given. Each of them could be on either side of 15. Let's revisit those few cases and asign them a random chance of survival. There's just a few of them, so it shouldn't change the logic of the training or test set considerably."
   ]
  },
  {
   "cell_type": "code",
   "execution_count": 6,
   "id": "b697378b",
   "metadata": {
    "execution": {
     "iopub.execute_input": "2021-10-15T23:34:42.687780Z",
     "iopub.status.busy": "2021-10-15T23:34:42.687167Z",
     "iopub.status.idle": "2021-10-15T23:34:42.697485Z",
     "shell.execute_reply": "2021-10-15T23:34:42.696998Z"
    },
    "papermill": {
     "duration": 0.027623,
     "end_time": "2021-10-15T23:34:42.697627",
     "exception": false,
     "start_time": "2021-10-15T23:34:42.670004",
     "status": "completed"
    },
    "tags": []
   },
   "outputs": [],
   "source": [
    "import random\n",
    "\n",
    "#Every man who's age is not known is randomly assigned a survival value (i.e. Some we assume to be under 15, others not so)\n",
    "tatinac_train.loc[(tatinac_train[\"Sex\"]==\"male\") & (tatinac_train[\"Age\"].isna()), \"Survived\"] = random.choice([0,1])\n",
    "tatinac_test.loc[(tatinac_test[\"Sex\"]==\"male\") & (tatinac_test[\"Age\"].isna()), \"Survived\"] = random.choice([0,1])"
   ]
  },
  {
   "cell_type": "code",
   "execution_count": 7,
   "id": "f9c970e1",
   "metadata": {
    "execution": {
     "iopub.execute_input": "2021-10-15T23:34:42.729679Z",
     "iopub.status.busy": "2021-10-15T23:34:42.729101Z",
     "iopub.status.idle": "2021-10-15T23:34:42.836121Z",
     "shell.execute_reply": "2021-10-15T23:34:42.835509Z"
    },
    "papermill": {
     "duration": 0.124171,
     "end_time": "2021-10-15T23:34:42.836273",
     "exception": false,
     "start_time": "2021-10-15T23:34:42.712102",
     "status": "completed"
    },
    "tags": []
   },
   "outputs": [
    {
     "name": "stdout",
     "output_type": "stream",
     "text": [
      "categorization accuracy score: 0.8492822966507177\n"
     ]
    },
    {
     "data": {
      "text/plain": [
       "'imageB.pdf'"
      ]
     },
     "execution_count": 7,
     "metadata": {},
     "output_type": "execute_result"
    }
   ],
   "source": [
    "#We repeat all the same steps as earlier, now that values have been updated.\n",
    "X_train = preprocess_pipeline.fit_transform(tatinac_train.drop(\"Survived\", axis=1))\n",
    "y_train = tatinac_train[\"Survived\"]\n",
    "\n",
    "dtc = DecisionTreeClassifier()\n",
    "dtc.fit(X_train, y_train)\n",
    "\n",
    "X_test = preprocess_pipeline.fit_transform(tatinac_test.drop(\"Survived\", axis=1))\n",
    "y_test = tatinac_test[\"Survived\"]\n",
    "y_pred = dtc.predict(X_test)\n",
    "\n",
    "print(\"categorization accuracy score:\", accuracy_score(y_pred,y_test))\n",
    "\n",
    "##The decision tree is very likely exactly the same. If not, it'll be at the very least functionally identical.\n",
    "visual = graphviz.Source(export_graphviz(dtc,class_names=True))\n",
    "visual.render(\"imageB\")"
   ]
  },
  {
   "cell_type": "markdown",
   "id": "8f2933de",
   "metadata": {
    "papermill": {
     "duration": 0.014763,
     "end_time": "2021-10-15T23:34:42.866581",
     "exception": false,
     "start_time": "2021-10-15T23:34:42.851818",
     "status": "completed"
    },
    "tags": []
   },
   "source": [
    "#### Ouch, that took a turn...\n",
    "\n",
    "Just by integrating age uncertainty the categorization accuracy score falls to a value of around 0.85 (note: occasionally one gets lucky and gets 0.95. Respectable, but a farcry from 1). The model arrived at was the same (how could it be any different?) and yet because of age uncertainty, we can't do much better than this.\n",
    "\n",
    "Ok, so maybe you're not entirely convinced yet. Maybe the models that get 1.00000 are doing something clever and age is just not the right metric to focus on due to the various NaN entries. Alright, let's make age perfectly predictable again and focus on sex."
   ]
  },
  {
   "cell_type": "code",
   "execution_count": 8,
   "id": "454fb6ca",
   "metadata": {
    "execution": {
     "iopub.execute_input": "2021-10-15T23:34:42.902358Z",
     "iopub.status.busy": "2021-10-15T23:34:42.901750Z",
     "iopub.status.idle": "2021-10-15T23:34:42.909132Z",
     "shell.execute_reply": "2021-10-15T23:34:42.909568Z"
    },
    "papermill": {
     "duration": 0.028219,
     "end_time": "2021-10-15T23:34:42.909753",
     "exception": false,
     "start_time": "2021-10-15T23:34:42.881534",
     "status": "completed"
    },
    "tags": []
   },
   "outputs": [],
   "source": [
    "#Reverting the survival value of men of unknown age back to 0.\n",
    "tatinac_train.loc[(tatinac_train[\"Sex\"]==\"male\") & (tatinac_train[\"Age\"].isna()), \"Survived\"] = 0\n",
    "tatinac_test.loc[(tatinac_test[\"Sex\"]==\"male\") & (tatinac_test[\"Age\"].isna()), \"Survived\"] = 0"
   ]
  },
  {
   "cell_type": "markdown",
   "id": "30e361c6",
   "metadata": {
    "papermill": {
     "duration": 0.014742,
     "end_time": "2021-10-15T23:34:42.939627",
     "exception": false,
     "start_time": "2021-10-15T23:34:42.924885",
     "status": "completed"
    },
    "tags": []
   },
   "source": [
    "Let's now create an example dataset relating events nearly as improbable as our original Tatinac disaster. Let us say, that the test set contains one counterexample: one adult man survived. He was next in the queue and got on right before the cutoff. The first entry in our test dataset is a man, he is our lone male survivor."
   ]
  },
  {
   "cell_type": "code",
   "execution_count": 9,
   "id": "7461b004",
   "metadata": {
    "execution": {
     "iopub.execute_input": "2021-10-15T23:34:42.973641Z",
     "iopub.status.busy": "2021-10-15T23:34:42.973027Z",
     "iopub.status.idle": "2021-10-15T23:34:42.987359Z",
     "shell.execute_reply": "2021-10-15T23:34:42.987832Z"
    },
    "papermill": {
     "duration": 0.033229,
     "end_time": "2021-10-15T23:34:42.987999",
     "exception": false,
     "start_time": "2021-10-15T23:34:42.954770",
     "status": "completed"
    },
    "tags": []
   },
   "outputs": [
    {
     "data": {
      "text/html": [
       "<div>\n",
       "<style scoped>\n",
       "    .dataframe tbody tr th:only-of-type {\n",
       "        vertical-align: middle;\n",
       "    }\n",
       "\n",
       "    .dataframe tbody tr th {\n",
       "        vertical-align: top;\n",
       "    }\n",
       "\n",
       "    .dataframe thead th {\n",
       "        text-align: right;\n",
       "    }\n",
       "</style>\n",
       "<table border=\"1\" class=\"dataframe\">\n",
       "  <thead>\n",
       "    <tr style=\"text-align: right;\">\n",
       "      <th></th>\n",
       "      <th>PassengerId</th>\n",
       "      <th>Pclass</th>\n",
       "      <th>Name</th>\n",
       "      <th>Sex</th>\n",
       "      <th>Age</th>\n",
       "      <th>SibSp</th>\n",
       "      <th>Parch</th>\n",
       "      <th>Ticket</th>\n",
       "      <th>Fare</th>\n",
       "      <th>Cabin</th>\n",
       "      <th>Embarked</th>\n",
       "      <th>Survived</th>\n",
       "    </tr>\n",
       "  </thead>\n",
       "  <tbody>\n",
       "    <tr>\n",
       "      <th>0</th>\n",
       "      <td>892</td>\n",
       "      <td>3</td>\n",
       "      <td>Kelly, Mr. James</td>\n",
       "      <td>male</td>\n",
       "      <td>34.5</td>\n",
       "      <td>0</td>\n",
       "      <td>0</td>\n",
       "      <td>330911</td>\n",
       "      <td>7.8292</td>\n",
       "      <td>NaN</td>\n",
       "      <td>Q</td>\n",
       "      <td>1</td>\n",
       "    </tr>\n",
       "    <tr>\n",
       "      <th>1</th>\n",
       "      <td>893</td>\n",
       "      <td>3</td>\n",
       "      <td>Wilkes, Mrs. James (Ellen Needs)</td>\n",
       "      <td>female</td>\n",
       "      <td>47.0</td>\n",
       "      <td>1</td>\n",
       "      <td>0</td>\n",
       "      <td>363272</td>\n",
       "      <td>7.0000</td>\n",
       "      <td>NaN</td>\n",
       "      <td>S</td>\n",
       "      <td>1</td>\n",
       "    </tr>\n",
       "    <tr>\n",
       "      <th>2</th>\n",
       "      <td>894</td>\n",
       "      <td>2</td>\n",
       "      <td>Myles, Mr. Thomas Francis</td>\n",
       "      <td>male</td>\n",
       "      <td>62.0</td>\n",
       "      <td>0</td>\n",
       "      <td>0</td>\n",
       "      <td>240276</td>\n",
       "      <td>9.6875</td>\n",
       "      <td>NaN</td>\n",
       "      <td>Q</td>\n",
       "      <td>0</td>\n",
       "    </tr>\n",
       "    <tr>\n",
       "      <th>3</th>\n",
       "      <td>895</td>\n",
       "      <td>3</td>\n",
       "      <td>Wirz, Mr. Albert</td>\n",
       "      <td>male</td>\n",
       "      <td>27.0</td>\n",
       "      <td>0</td>\n",
       "      <td>0</td>\n",
       "      <td>315154</td>\n",
       "      <td>8.6625</td>\n",
       "      <td>NaN</td>\n",
       "      <td>S</td>\n",
       "      <td>0</td>\n",
       "    </tr>\n",
       "    <tr>\n",
       "      <th>4</th>\n",
       "      <td>896</td>\n",
       "      <td>3</td>\n",
       "      <td>Hirvonen, Mrs. Alexander (Helga E Lindqvist)</td>\n",
       "      <td>female</td>\n",
       "      <td>22.0</td>\n",
       "      <td>1</td>\n",
       "      <td>1</td>\n",
       "      <td>3101298</td>\n",
       "      <td>12.2875</td>\n",
       "      <td>NaN</td>\n",
       "      <td>S</td>\n",
       "      <td>1</td>\n",
       "    </tr>\n",
       "  </tbody>\n",
       "</table>\n",
       "</div>"
      ],
      "text/plain": [
       "   PassengerId  Pclass                                          Name     Sex  \\\n",
       "0          892       3                              Kelly, Mr. James    male   \n",
       "1          893       3              Wilkes, Mrs. James (Ellen Needs)  female   \n",
       "2          894       2                     Myles, Mr. Thomas Francis    male   \n",
       "3          895       3                              Wirz, Mr. Albert    male   \n",
       "4          896       3  Hirvonen, Mrs. Alexander (Helga E Lindqvist)  female   \n",
       "\n",
       "    Age  SibSp  Parch   Ticket     Fare Cabin Embarked  Survived  \n",
       "0  34.5      0      0   330911   7.8292   NaN        Q         1  \n",
       "1  47.0      1      0   363272   7.0000   NaN        S         1  \n",
       "2  62.0      0      0   240276   9.6875   NaN        Q         0  \n",
       "3  27.0      0      0   315154   8.6625   NaN        S         0  \n",
       "4  22.0      1      1  3101298  12.2875   NaN        S         1  "
      ]
     },
     "execution_count": 9,
     "metadata": {},
     "output_type": "execute_result"
    }
   ],
   "source": [
    "tatinac_test.loc[0,\"Survived\"]=1 ##the one lucky survivor\n",
    "tatinac_test.head()"
   ]
  },
  {
   "cell_type": "code",
   "execution_count": 10,
   "id": "bb8a329d",
   "metadata": {
    "execution": {
     "iopub.execute_input": "2021-10-15T23:34:43.026801Z",
     "iopub.status.busy": "2021-10-15T23:34:43.022680Z",
     "iopub.status.idle": "2021-10-15T23:34:43.110764Z",
     "shell.execute_reply": "2021-10-15T23:34:43.111222Z"
    },
    "papermill": {
     "duration": 0.10767,
     "end_time": "2021-10-15T23:34:43.111383",
     "exception": false,
     "start_time": "2021-10-15T23:34:43.003713",
     "status": "completed"
    },
    "tags": []
   },
   "outputs": [
    {
     "name": "stdout",
     "output_type": "stream",
     "text": [
      "categorization accuracy score: 0.9976076555023924\n"
     ]
    },
    {
     "data": {
      "text/plain": [
       "'imageC.pdf'"
      ]
     },
     "execution_count": 10,
     "metadata": {},
     "output_type": "execute_result"
    }
   ],
   "source": [
    "#We repeat all the same steps as earlier, now that values have been updated. \n",
    "X_train = preprocess_pipeline.fit_transform(tatinac_train.drop(\"Survived\", axis=1))\n",
    "y_train = tatinac_train[\"Survived\"]\n",
    "\n",
    "dtc = DecisionTreeClassifier()\n",
    "dtc.fit(X_train, y_train)\n",
    "\n",
    "X_test = preprocess_pipeline.fit_transform(tatinac_test.drop(\"Survived\", axis=1))\n",
    "y_test = tatinac_test[\"Survived\"]\n",
    "y_pred = dtc.predict(X_test)\n",
    "\n",
    "print(\"categorization accuracy score:\",accuracy_score(y_pred,y_test))\n",
    "\n",
    "##The decision tree is STILL functionally identical!\n",
    "visual = graphviz.Source(export_graphviz(dtc,class_names=True))\n",
    "visual.render(\"imageC\")"
   ]
  },
  {
   "cell_type": "markdown",
   "id": "15930aab",
   "metadata": {
    "papermill": {
     "duration": 0.016752,
     "end_time": "2021-10-15T23:34:43.144417",
     "exception": false,
     "start_time": "2021-10-15T23:34:43.127665",
     "status": "completed"
    },
    "tags": []
   },
   "source": [
    "#### What?! 0.99761?! \n",
    "\n",
    "That certainly doesn't round to 1 if we're considering five decimals! Not even close. \n",
    "\n",
    "Notice that all it took was just ONE exception in the test set. One single exception. If that's all it takes not to get a clean 1.00000 prediction for this ever-so-slightly modified Tatinac dataset, imagine how much lower maximum categorization accuracy is going to be for the Titanic dataset! Let's add a few more exceptions to get a sense how quickly an otherwise perfect prediction loses in accuracy."
   ]
  },
  {
   "cell_type": "code",
   "execution_count": 11,
   "id": "e38a45e9",
   "metadata": {
    "execution": {
     "iopub.execute_input": "2021-10-15T23:34:43.181306Z",
     "iopub.status.busy": "2021-10-15T23:34:43.180535Z",
     "iopub.status.idle": "2021-10-15T23:34:43.198783Z",
     "shell.execute_reply": "2021-10-15T23:34:43.198136Z"
    },
    "papermill": {
     "duration": 0.037441,
     "end_time": "2021-10-15T23:34:43.198935",
     "exception": false,
     "start_time": "2021-10-15T23:34:43.161494",
     "status": "completed"
    },
    "tags": []
   },
   "outputs": [
    {
     "data": {
      "text/html": [
       "<div>\n",
       "<style scoped>\n",
       "    .dataframe tbody tr th:only-of-type {\n",
       "        vertical-align: middle;\n",
       "    }\n",
       "\n",
       "    .dataframe tbody tr th {\n",
       "        vertical-align: top;\n",
       "    }\n",
       "\n",
       "    .dataframe thead th {\n",
       "        text-align: right;\n",
       "    }\n",
       "</style>\n",
       "<table border=\"1\" class=\"dataframe\">\n",
       "  <thead>\n",
       "    <tr style=\"text-align: right;\">\n",
       "      <th></th>\n",
       "      <th>PassengerId</th>\n",
       "      <th>Pclass</th>\n",
       "      <th>Name</th>\n",
       "      <th>Sex</th>\n",
       "      <th>Age</th>\n",
       "      <th>SibSp</th>\n",
       "      <th>Parch</th>\n",
       "      <th>Ticket</th>\n",
       "      <th>Fare</th>\n",
       "      <th>Cabin</th>\n",
       "      <th>Embarked</th>\n",
       "      <th>Survived</th>\n",
       "    </tr>\n",
       "  </thead>\n",
       "  <tbody>\n",
       "    <tr>\n",
       "      <th>0</th>\n",
       "      <td>892</td>\n",
       "      <td>3</td>\n",
       "      <td>Kelly, Mr. James</td>\n",
       "      <td>male</td>\n",
       "      <td>34.5</td>\n",
       "      <td>0</td>\n",
       "      <td>0</td>\n",
       "      <td>330911</td>\n",
       "      <td>7.8292</td>\n",
       "      <td>NaN</td>\n",
       "      <td>Q</td>\n",
       "      <td>1</td>\n",
       "    </tr>\n",
       "    <tr>\n",
       "      <th>1</th>\n",
       "      <td>893</td>\n",
       "      <td>3</td>\n",
       "      <td>Wilkes, Mrs. James (Ellen Needs)</td>\n",
       "      <td>female</td>\n",
       "      <td>47.0</td>\n",
       "      <td>1</td>\n",
       "      <td>0</td>\n",
       "      <td>363272</td>\n",
       "      <td>7.0000</td>\n",
       "      <td>NaN</td>\n",
       "      <td>S</td>\n",
       "      <td>0</td>\n",
       "    </tr>\n",
       "    <tr>\n",
       "      <th>2</th>\n",
       "      <td>894</td>\n",
       "      <td>2</td>\n",
       "      <td>Myles, Mr. Thomas Francis</td>\n",
       "      <td>male</td>\n",
       "      <td>62.0</td>\n",
       "      <td>0</td>\n",
       "      <td>0</td>\n",
       "      <td>240276</td>\n",
       "      <td>9.6875</td>\n",
       "      <td>NaN</td>\n",
       "      <td>Q</td>\n",
       "      <td>1</td>\n",
       "    </tr>\n",
       "    <tr>\n",
       "      <th>3</th>\n",
       "      <td>895</td>\n",
       "      <td>3</td>\n",
       "      <td>Wirz, Mr. Albert</td>\n",
       "      <td>male</td>\n",
       "      <td>27.0</td>\n",
       "      <td>0</td>\n",
       "      <td>0</td>\n",
       "      <td>315154</td>\n",
       "      <td>8.6625</td>\n",
       "      <td>NaN</td>\n",
       "      <td>S</td>\n",
       "      <td>1</td>\n",
       "    </tr>\n",
       "    <tr>\n",
       "      <th>4</th>\n",
       "      <td>896</td>\n",
       "      <td>3</td>\n",
       "      <td>Hirvonen, Mrs. Alexander (Helga E Lindqvist)</td>\n",
       "      <td>female</td>\n",
       "      <td>22.0</td>\n",
       "      <td>1</td>\n",
       "      <td>1</td>\n",
       "      <td>3101298</td>\n",
       "      <td>12.2875</td>\n",
       "      <td>NaN</td>\n",
       "      <td>S</td>\n",
       "      <td>0</td>\n",
       "    </tr>\n",
       "  </tbody>\n",
       "</table>\n",
       "</div>"
      ],
      "text/plain": [
       "   PassengerId  Pclass                                          Name     Sex  \\\n",
       "0          892       3                              Kelly, Mr. James    male   \n",
       "1          893       3              Wilkes, Mrs. James (Ellen Needs)  female   \n",
       "2          894       2                     Myles, Mr. Thomas Francis    male   \n",
       "3          895       3                              Wirz, Mr. Albert    male   \n",
       "4          896       3  Hirvonen, Mrs. Alexander (Helga E Lindqvist)  female   \n",
       "\n",
       "    Age  SibSp  Parch   Ticket     Fare Cabin Embarked  Survived  \n",
       "0  34.5      0      0   330911   7.8292   NaN        Q         1  \n",
       "1  47.0      1      0   363272   7.0000   NaN        S         0  \n",
       "2  62.0      0      0   240276   9.6875   NaN        Q         1  \n",
       "3  27.0      0      0   315154   8.6625   NaN        S         1  \n",
       "4  22.0      1      1  3101298  12.2875   NaN        S         0  "
      ]
     },
     "execution_count": 11,
     "metadata": {},
     "output_type": "execute_result"
    }
   ],
   "source": [
    "tatinac_test.loc[1,\"Survived\"]=0 ##the second entry is a woman. Sadly she now falls overboard.\n",
    "tatinac_test.loc[2,\"Survived\"]=1 ##the third entry is a man. Floats on top a door.\n",
    "tatinac_test.loc[3,\"Survived\"]=1 ##There's enough space on the door for two people.\n",
    "tatinac_test.loc[4,\"Survived\"]=0 ##But not for the original three.\n",
    "\n",
    "tatinac_test.head()"
   ]
  },
  {
   "cell_type": "code",
   "execution_count": 12,
   "id": "a1a335ac",
   "metadata": {
    "execution": {
     "iopub.execute_input": "2021-10-15T23:34:43.239350Z",
     "iopub.status.busy": "2021-10-15T23:34:43.238714Z",
     "iopub.status.idle": "2021-10-15T23:34:43.309219Z",
     "shell.execute_reply": "2021-10-15T23:34:43.308657Z"
    },
    "papermill": {
     "duration": 0.093143,
     "end_time": "2021-10-15T23:34:43.309355",
     "exception": false,
     "start_time": "2021-10-15T23:34:43.216212",
     "status": "completed"
    },
    "tags": []
   },
   "outputs": [
    {
     "name": "stdout",
     "output_type": "stream",
     "text": [
      "categorization accuracy score: 0.9880382775119617\n"
     ]
    },
    {
     "data": {
      "text/plain": [
       "'imageD.pdf'"
      ]
     },
     "execution_count": 12,
     "metadata": {},
     "output_type": "execute_result"
    }
   ],
   "source": [
    "##We haven't changed the training dataset this time so we can just power ahead with the test data preprocessing and prediction.\n",
    "X_test = preprocess_pipeline.fit_transform(tatinac_test.drop(\"Survived\", axis=1))\n",
    "y_test = tatinac_test[\"Survived\"]\n",
    "y_pred = dtc.predict(X_test)\n",
    "\n",
    "print(\"categorization accuracy score:\",accuracy_score(y_pred,y_test))\n",
    "\n",
    "##You get the gist...\n",
    "visual = graphviz.Source(export_graphviz(dtc,class_names=True))\n",
    "visual.render(\"imageD\")"
   ]
  },
  {
   "cell_type": "markdown",
   "id": "59a80305",
   "metadata": {
    "papermill": {
     "duration": 0.01695,
     "end_time": "2021-10-15T23:34:43.344172",
     "exception": false,
     "start_time": "2021-10-15T23:34:43.327222",
     "status": "completed"
    },
    "tags": []
   },
   "source": [
    "#### Only 5 miserable examples running counter to the Tatinac's disaster's orderly evacuation and the prediction is already down to 0.988?!\n",
    "\n",
    "Now you're truly wondering how anyone can possibly get 1.00000 on the Titanic dataset.\n",
    "\n",
    "Perhaps they somehow got a hold of the survivor column for the test set (hidden on Kaggle for very very good reason!) and in an act of excusable silliness, ran the test set through the fitting phase of their model instead of the training set, thus perhaps overfitting? Oh dear!\n",
    "\n",
    "That's too forgiving an explanation and it doesn't even work. Let's give that a try (obviously, never do this in any other context)"
   ]
  },
  {
   "cell_type": "code",
   "execution_count": 13,
   "id": "eb2e0d5d",
   "metadata": {
    "execution": {
     "iopub.execute_input": "2021-10-15T23:34:43.384997Z",
     "iopub.status.busy": "2021-10-15T23:34:43.381391Z",
     "iopub.status.idle": "2021-10-15T23:34:43.464137Z",
     "shell.execute_reply": "2021-10-15T23:34:43.463450Z"
    },
    "papermill": {
     "duration": 0.103085,
     "end_time": "2021-10-15T23:34:43.464278",
     "exception": false,
     "start_time": "2021-10-15T23:34:43.361193",
     "status": "completed"
    },
    "tags": []
   },
   "outputs": [
    {
     "name": "stdout",
     "output_type": "stream",
     "text": [
      "categorization accuracy score: 0.9976076555023924\n"
     ]
    },
    {
     "data": {
      "text/plain": [
       "'imageE.pdf'"
      ]
     },
     "execution_count": 13,
     "metadata": {},
     "output_type": "execute_result"
    }
   ],
   "source": [
    "dtc = DecisionTreeClassifier()\n",
    "dtc.fit(X_test, y_test) #training with the test set. Bad, terrible, no good practice!\n",
    "\n",
    "X_test = preprocess_pipeline.fit_transform(tatinac_test.drop(\"Survived\", axis=1))\n",
    "y_test = tatinac_test[\"Survived\"]\n",
    "y_pred = dtc.predict(X_test)\n",
    "\n",
    "print(\"categorization accuracy score:\",accuracy_score(y_pred,y_test))\n",
    "\n",
    "##Yes, even with the test set, it all just stays the same!\n",
    "visual = graphviz.Source(export_graphviz(dtc,class_names=True))\n",
    "visual.render(\"imageE\")"
   ]
  },
  {
   "cell_type": "markdown",
   "id": "08ea55db",
   "metadata": {
    "papermill": {
     "duration": 0.017585,
     "end_time": "2021-10-15T23:34:43.499928",
     "exception": false,
     "start_time": "2021-10-15T23:34:43.482343",
     "status": "completed"
    },
    "tags": []
   },
   "source": [
    "#### We still don't get 1.00000! \n",
    "\n",
    "This is because, even though we are plugging in the test set to predict the test set, we are asking the model to derive some simple rules, not copy the data exactly, so our simple decision tree will continue learning that women and boys under age 15, strongly tended to survive, while the men didn't. We could push our model to overfit by increasing the number of nodes in our decision tree, but that won't even get us to 1.00000 (again, this is not advice anyway, this is the opposite of what you'd normally do, you want a model to generalize well which is incidentally another reason 1.0000 is never a desirable score, the only other scenario where you get 1.00000 is one where you're data is too simple to necessitate ML)\n",
    "\n",
    "#### So what IS happening? \n",
    "\n",
    "Well, in case it isn't obvious yet, each and every single one of these 150 or so teams simply submitted the test with the correct survivor column attached, that they have somehow found online (I didn't look for it and neither should you!). Given that the sinking of the RMS Titanic is something that actually happened, one should be able to find this information out and turn it into the test set.\n",
    "\n",
    "The problem here isn't just the cheating, nothing is gained from simply submitting the answers. You cannot even replicate this dishonest strategy for any other dataset (so it isn't even 'clever' cheating). Those who do it arrest their potential growth as MLers on Kaggle. What a shame!\n",
    "\n",
    "#### Think about your prediction again. Whether you've got 0.75 or higher, you're doing great. \n",
    "\n",
    "Keep it up, try a few things. Go learn some more ML tricks and try again. A seemingly small increment, is a leap in your knowledge of ML. Quickly move on to other datasets. Maybe come back to the Titanic dataset from time to time. Whatever you do, DO NOT get disheartened by the fact you're not getting anything near 1.00000 or 0.98804, these are illusory results.\n",
    "\n",
    "If you look for the holy grail of models in the various 'winning' dataset notebooks, you'll quickly notice a lot of notebooks look suspiciously the same (because they are) and they mostly cover a lot of data visualization (which is nice, but that's probably not why you were looking at them in the first place, right?).\n",
    "\n",
    "#### So what is the highest legitimate categorical accuracy score?\n",
    "\n",
    "It is near impossible to tell where the dividing line between legitimate and fake is, but some notebooks below 0.85 look legit (this is a wild guess based on some circumstantial evidence, it could be a little higher). Don't worry too much about it. Try to improve your score, then move on to other datasets. <bold>You're doing great don't get discouraged!</bold>"
   ]
  },
  {
   "cell_type": "markdown",
   "id": "de043898",
   "metadata": {
    "papermill": {
     "duration": 0.017651,
     "end_time": "2021-10-15T23:34:43.535539",
     "exception": false,
     "start_time": "2021-10-15T23:34:43.517888",
     "status": "completed"
    },
    "tags": []
   },
   "source": []
  }
 ],
 "metadata": {
  "kernelspec": {
   "display_name": "Python 3",
   "language": "python",
   "name": "python3"
  },
  "language_info": {
   "codemirror_mode": {
    "name": "ipython",
    "version": 3
   },
   "file_extension": ".py",
   "mimetype": "text/x-python",
   "name": "python",
   "nbconvert_exporter": "python",
   "pygments_lexer": "ipython3",
   "version": "3.7.10"
  },
  "papermill": {
   "default_parameters": {},
   "duration": 11.837835,
   "end_time": "2021-10-15T23:34:44.264820",
   "environment_variables": {},
   "exception": null,
   "input_path": "__notebook__.ipynb",
   "output_path": "__notebook__.ipynb",
   "parameters": {},
   "start_time": "2021-10-15T23:34:32.426985",
   "version": "2.3.3"
  }
 },
 "nbformat": 4,
 "nbformat_minor": 5
}
